{
 "cells": [
  {
   "cell_type": "code",
   "execution_count": 1,
   "metadata": {},
   "outputs": [
    {
     "ename": "ImportError",
     "evalue": "cannot import name 'Aer' from 'qiskit' (/home/portarchboot/miniconda3/envs/qkdn/lib/python3.13/site-packages/qiskit/__init__.py)",
     "output_type": "error",
     "traceback": [
      "\u001b[0;31m---------------------------------------------------------------------------\u001b[0m",
      "\u001b[0;31mImportError\u001b[0m                               Traceback (most recent call last)",
      "Cell \u001b[0;32mIn[1], line 1\u001b[0m\n\u001b[0;32m----> 1\u001b[0m \u001b[38;5;28;01mfrom\u001b[39;00m \u001b[38;5;21;01mqiskit\u001b[39;00m \u001b[38;5;28;01mimport\u001b[39;00m QuantumCircuit, Aer, transpile, assemble, execute\n\u001b[1;32m      2\u001b[0m \u001b[38;5;28;01mfrom\u001b[39;00m \u001b[38;5;21;01mqiskit\u001b[39;00m\u001b[38;5;21;01m.\u001b[39;00m\u001b[38;5;21;01mvisualization\u001b[39;00m \u001b[38;5;28;01mimport\u001b[39;00m plot_histogram\n\u001b[1;32m      3\u001b[0m \u001b[38;5;28;01mfrom\u001b[39;00m \u001b[38;5;21;01mqiskit\u001b[39;00m\u001b[38;5;21;01m.\u001b[39;00m\u001b[38;5;21;01mquantum_info\u001b[39;00m \u001b[38;5;28;01mimport\u001b[39;00m random_statevector\n",
      "\u001b[0;31mImportError\u001b[0m: cannot import name 'Aer' from 'qiskit' (/home/portarchboot/miniconda3/envs/qkdn/lib/python3.13/site-packages/qiskit/__init__.py)"
     ]
    }
   ],
   "source": [
    "from qiskit import QuantumCircuit, Aer, transpile, assemble, execute\n",
    "from qiskit.visualization import plot_histogram\n",
    "from qiskit.quantum_info import random_statevector\n",
    "\n",
    "def aes_like_quantum_encryption(key, message):\n",
    "    # Create quantum circuits for encryption\n",
    "    qc_key = QuantumCircuit(len(key))\n",
    "    qc_msg = QuantumCircuit(len(message))\n",
    "    \n",
    "    # Initialize the key and message\n",
    "    qc_key.initialize(key, range(len(key)))\n",
    "    qc_msg.initialize(message, range(len(message)))\n",
    "    \n",
    "    # Apply some quantum gates loosely inspired by AES operations\n",
    "    for i in range(len(message)):\n",
    "        qc_msg.h(i)  # Hadamard gate\n",
    "        qc_msg.cx(i, (i+1) % len(message))  # Controlled-NOT\n",
    "    \n",
    "    # Combine the key and message circuits\n",
    "    qc_key.compose(qc_msg, inplace=True)\n",
    "    \n",
    "    # Return the encryption circuit\n",
    "    return qc_key\n",
    "\n",
    "def aes_like_quantum_decryption(ciphertext, key):\n",
    "    # Create quantum circuits for decryption\n",
    "    qc_key = QuantumCircuit(len(key))\n",
    "    qc_cipher = QuantumCircuit(len(ciphertext))\n",
    "    \n",
    "    # Initialize the key and ciphertext\n",
    "    qc_key.initialize(key, range(len(key)))\n",
    "    qc_cipher.initialize(ciphertext, range(len(ciphertext)))\n",
    "    \n",
    "    # Reverse the quantum gates applied during encryption\n",
    "    for i in range(len(ciphertext)-1, -1, -1):\n",
    "        qc_cipher.cx(i, (i+1) % len(ciphertext))  # Controlled-NOT\n",
    "        qc_cipher.h(i)  # Hadamard gate\n",
    "    \n",
    "    # Combine the key and cipher circuits\n",
    "    qc_key.compose(qc_cipher, inplace=True)\n",
    "    \n",
    "    # Return the decryption circuit\n",
    "    return qc_key\n",
    "\n",
    "# Example usage\n",
    "key = random_statevector(3).data\n",
    "message = random_statevector(3).data\n",
    "encrypted_circuit = aes_like_quantum_encryption(key, message)\n",
    "decrypted_circuit = aes_like_quantum_decryption(encrypted_circuit, key)\n",
    "\n",
    "# Simulate the circuits\n",
    "simulator = Aer.get_backend('statevector_simulator')\n",
    "result_enc = execute(encrypted_circuit, backend=simulator).result()\n",
    "result_dec = execute(decrypted_circuit, backend=simulator).result()\n",
    "\n",
    "# Get the output state vectors\n",
    "statevector_enc = result_enc.get_statevector()\n",
    "statevector_dec = result_dec.get_statevector()\n",
    "\n",
    "print(\"Encrypted state vector:\", statevector_enc)\n",
    "print(\"Decrypted state vector:\", statevector_dec)\n"
   ]
  }
 ],
 "metadata": {
  "kernelspec": {
   "display_name": "qkdn",
   "language": "python",
   "name": "python3"
  },
  "language_info": {
   "codemirror_mode": {
    "name": "ipython",
    "version": 3
   },
   "file_extension": ".py",
   "mimetype": "text/x-python",
   "name": "python",
   "nbconvert_exporter": "python",
   "pygments_lexer": "ipython3",
   "version": "3.13.0"
  }
 },
 "nbformat": 4,
 "nbformat_minor": 2
}
